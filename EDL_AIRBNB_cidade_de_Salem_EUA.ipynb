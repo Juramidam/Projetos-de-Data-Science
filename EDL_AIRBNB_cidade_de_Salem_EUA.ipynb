{
  "nbformat": 4,
  "nbformat_minor": 0,
  "metadata": {
    "colab": {
      "name": "EDL:  AIRBNB cidade de Salem/EUA",
      "provenance": [],
      "collapsed_sections": [],
      "include_colab_link": true
    },
    "kernelspec": {
      "name": "python3",
      "display_name": "Python 3"
    }
  },
  "cells": [
    {
      "cell_type": "markdown",
      "metadata": {
        "id": "view-in-github",
        "colab_type": "text"
      },
      "source": [
        "<a href=\"https://colab.research.google.com/github/Juramidam/Projetos-de-Data-Science/blob/main/EDL_AIRBNB_cidade_de_Salem_EUA.ipynb\" target=\"_parent\"><img src=\"https://colab.research.google.com/assets/colab-badge.svg\" alt=\"Open In Colab\"/></a>"
      ]
    },
    {
      "cell_type": "markdown",
      "metadata": {
        "id": "kLI0gJtzDGuQ"
      },
      "source": [
        "<img alt=\"Colaboratory logo\" width=\"30%\" src=\"https://raw.githubusercontent.com/Juramidam/Projetos-de-Data-Science/227b98382494091864bd4566fe8038d947555b5d/logo%20invertido%20Dan.png\">\n",
        "\n",
        "\n",
        "#### **Projeto 001-Portifólio *Da`N`*ta Science**\n",
        "\n",
        "\n",
        "---\n",
        "\n",
        "# Análise exploratória dos Dados do Airbnb - *Salem-EUA*\n",
        "\n",
        "O [Airbnb](https://www.airbnb.com.br/) já é considerado como sendo a **maior empresa  do setor hoteleiro**. Mesmo **não possuindo nenhum hotel, nem imóvel** em seus ativos permanentes!\n",
        "\n",
        "Conectando pessoas que querem viajar (e se hospedar) com anfitriões que querem alugar seus imóveis de maneira prática, o Airbnb fornece uma plataforma inovadora de hospedagem alternativa.\n",
        "\n",
        "Uma das iniciativas do Airbnb é disponibilizar dados do site, para algumas das principais cidades do mundo. Por meio do portal [Inside Airbnb](http://insideairbnb.com/get-the-data.html), é possível baixar uma grande quantidade de dados para desenvolver projetos e soluções de *Data Science*.\n",
        "\n",
        "<center><img alt=\"Analisando Airbnb\" width=\"10%\" src=\"https://www.area360.com.au/wp-content/uploads/2017/09/airbnb-logo.jpg\"></center>\n",
        "\n",
        "**Neste *notebook*, iremos analisar os dados referentes à cidade de Salem, e ver quais insights podem ser extraídos a partir de dados brutos.**"
      ]
    },
    {
      "cell_type": "markdown",
      "metadata": {
        "id": "0zxQHhIUDF_2"
      },
      "source": [
        "## Obtenção dos Dados\n"
      ]
    },
    {
      "cell_type": "code",
      "metadata": {
        "id": "Vhp2wMPgJ6zX"
      },
      "source": [
        "# importar os pacotes necessarios\n",
        "import pandas as pd\n",
        "import matplotlib.pyplot as plt\n",
        "import seaborn as sns\n",
        "\n",
        "%matplotlib inline"
      ],
      "execution_count": null,
      "outputs": []
    },
    {
      "cell_type": "code",
      "metadata": {
        "id": "tUmoAT8DLQ5T"
      },
      "source": [
        "# importar o arquivo listings.csv para um DataFrame\n",
        "salem = pd.read_csv(\"http://data.insideairbnb.com/united-states/or/salem-or/2021-03-19/visualisations/listings.csv\")"
      ],
      "execution_count": null,
      "outputs": []
    },
    {
      "cell_type": "markdown",
      "metadata": {
        "id": "qb5By2nIMS6m"
      },
      "source": [
        "## Análise dos Dados\n"
      ]
    },
    {
      "cell_type": "markdown",
      "metadata": {
        "id": "RYgvuebKNg8-"
      },
      "source": [
        "**Dicionário das variáveis**\n",
        "\n",
        "* `id` - Código para identificar o imóvel\n",
        "* `name` - Nome do imóvel\n",
        "* `host_id` - Código para identificar dono/anfitrião do imóvel\n",
        "* `host_name` - Nome do dono do imóvel\n",
        "* `neighbourhood_group` - Esta coluna não contém nenhum valor válido\n",
        "* `neighbourhood` - Nome do bairro que está o imóvel\n",
        "* `latitude` - Coordenada da latitude do imóvel\n",
        "* `longitude` - Coordenada da longitude do imóvel\n",
        "* `room_type` - O tipo de quarto que está disponível\n",
        "* `price` - Preço para alugar o imóvel por diária\n",
        "* `minimum_nights` - Quantidade mínima de noites aceitas para reserva\n",
        "* `number_of_reviews` - Número de reviews que o imóvel possui\n",
        "* `last_review` - Data do último review\n",
        "* `reviews_per_month` - Quantidade de reviews por mês\n",
        "* `calculated_host_listings_count` - Quantidade de imóveis do mesmo dono\n",
        "* `availability_365` - Número de dias que houve vacância\n",
        "\n",
        "Antes de iniciar qualquer análise, vamos olhar o nosso *dataset*, analisando as 7 primeiras entradas.\n"
      ]
    },
    {
      "cell_type": "code",
      "metadata": {
        "id": "2iS_dae7YQtO",
        "colab": {
          "base_uri": "https://localhost:8080/",
          "height": 626
        },
        "outputId": "388675e1-0ff2-4d43-f4ef-496c74786411"
      },
      "source": [
        "#Olhar as sete primeiras entradas para analisar os dados contidos no dataset\n",
        "salem.head(7)"
      ],
      "execution_count": null,
      "outputs": [
        {
          "output_type": "execute_result",
          "data": {
            "text/html": [
              "<div>\n",
              "<style scoped>\n",
              "    .dataframe tbody tr th:only-of-type {\n",
              "        vertical-align: middle;\n",
              "    }\n",
              "\n",
              "    .dataframe tbody tr th {\n",
              "        vertical-align: top;\n",
              "    }\n",
              "\n",
              "    .dataframe thead th {\n",
              "        text-align: right;\n",
              "    }\n",
              "</style>\n",
              "<table border=\"1\" class=\"dataframe\">\n",
              "  <thead>\n",
              "    <tr style=\"text-align: right;\">\n",
              "      <th></th>\n",
              "      <th>id</th>\n",
              "      <th>name</th>\n",
              "      <th>host_id</th>\n",
              "      <th>host_name</th>\n",
              "      <th>neighbourhood_group</th>\n",
              "      <th>neighbourhood</th>\n",
              "      <th>latitude</th>\n",
              "      <th>longitude</th>\n",
              "      <th>room_type</th>\n",
              "      <th>price</th>\n",
              "      <th>minimum_nights</th>\n",
              "      <th>number_of_reviews</th>\n",
              "      <th>last_review</th>\n",
              "      <th>reviews_per_month</th>\n",
              "      <th>calculated_host_listings_count</th>\n",
              "      <th>availability_365</th>\n",
              "    </tr>\n",
              "  </thead>\n",
              "  <tbody>\n",
              "    <tr>\n",
              "      <th>0</th>\n",
              "      <td>1159564</td>\n",
              "      <td>SOLAR ECLIPSE - A</td>\n",
              "      <td>2185672</td>\n",
              "      <td>Roberta</td>\n",
              "      <td>NaN</td>\n",
              "      <td>Ward 3</td>\n",
              "      <td>44.88416</td>\n",
              "      <td>-123.04341</td>\n",
              "      <td>Private room</td>\n",
              "      <td>175</td>\n",
              "      <td>2</td>\n",
              "      <td>2</td>\n",
              "      <td>2013-08-30</td>\n",
              "      <td>0.02</td>\n",
              "      <td>1</td>\n",
              "      <td>365</td>\n",
              "    </tr>\n",
              "    <tr>\n",
              "      <th>1</th>\n",
              "      <td>4394073</td>\n",
              "      <td>Warm and Welcoming in Downtown.</td>\n",
              "      <td>22810342</td>\n",
              "      <td>Michael</td>\n",
              "      <td>NaN</td>\n",
              "      <td>Ward 1</td>\n",
              "      <td>44.94813</td>\n",
              "      <td>-123.02229</td>\n",
              "      <td>Private room</td>\n",
              "      <td>47</td>\n",
              "      <td>2</td>\n",
              "      <td>107</td>\n",
              "      <td>2020-11-27</td>\n",
              "      <td>1.38</td>\n",
              "      <td>2</td>\n",
              "      <td>230</td>\n",
              "    </tr>\n",
              "    <tr>\n",
              "      <th>2</th>\n",
              "      <td>4785215</td>\n",
              "      <td>Century House Doug Fir Room</td>\n",
              "      <td>10502090</td>\n",
              "      <td>Jean</td>\n",
              "      <td>NaN</td>\n",
              "      <td>Ward 2</td>\n",
              "      <td>44.93448</td>\n",
              "      <td>-123.02103</td>\n",
              "      <td>Private room</td>\n",
              "      <td>89</td>\n",
              "      <td>2</td>\n",
              "      <td>87</td>\n",
              "      <td>2021-03-06</td>\n",
              "      <td>1.15</td>\n",
              "      <td>3</td>\n",
              "      <td>355</td>\n",
              "    </tr>\n",
              "    <tr>\n",
              "      <th>3</th>\n",
              "      <td>7293821</td>\n",
              "      <td>Chauffeurs Room @ the Villa</td>\n",
              "      <td>38202007</td>\n",
              "      <td>Julie</td>\n",
              "      <td>NaN</td>\n",
              "      <td>Ward 7</td>\n",
              "      <td>44.92484</td>\n",
              "      <td>-123.04990</td>\n",
              "      <td>Entire home/apt</td>\n",
              "      <td>98</td>\n",
              "      <td>1</td>\n",
              "      <td>336</td>\n",
              "      <td>2021-02-09</td>\n",
              "      <td>4.87</td>\n",
              "      <td>1</td>\n",
              "      <td>0</td>\n",
              "    </tr>\n",
              "    <tr>\n",
              "      <th>4</th>\n",
              "      <td>8255984</td>\n",
              "      <td>Downtown Salem Loft in Salem Oregon</td>\n",
              "      <td>43537767</td>\n",
              "      <td>Angela</td>\n",
              "      <td>NaN</td>\n",
              "      <td>Ward 1</td>\n",
              "      <td>44.94190</td>\n",
              "      <td>-123.03976</td>\n",
              "      <td>Entire home/apt</td>\n",
              "      <td>179</td>\n",
              "      <td>2</td>\n",
              "      <td>68</td>\n",
              "      <td>2021-03-13</td>\n",
              "      <td>1.02</td>\n",
              "      <td>8</td>\n",
              "      <td>334</td>\n",
              "    </tr>\n",
              "    <tr>\n",
              "      <th>5</th>\n",
              "      <td>8524259</td>\n",
              "      <td>Single room in Comfort Home</td>\n",
              "      <td>2421461</td>\n",
              "      <td>Nancy</td>\n",
              "      <td>NaN</td>\n",
              "      <td>Ward 7</td>\n",
              "      <td>44.89105</td>\n",
              "      <td>-123.06843</td>\n",
              "      <td>Private room</td>\n",
              "      <td>65</td>\n",
              "      <td>1</td>\n",
              "      <td>2</td>\n",
              "      <td>2018-06-13</td>\n",
              "      <td>0.05</td>\n",
              "      <td>1</td>\n",
              "      <td>364</td>\n",
              "    </tr>\n",
              "    <tr>\n",
              "      <th>6</th>\n",
              "      <td>8698684</td>\n",
              "      <td>Charming 1925 Craftsman centrally located!</td>\n",
              "      <td>3208932</td>\n",
              "      <td>Christy And Arnaud</td>\n",
              "      <td>NaN</td>\n",
              "      <td>Ward 2</td>\n",
              "      <td>44.93305</td>\n",
              "      <td>-123.01985</td>\n",
              "      <td>Entire home/apt</td>\n",
              "      <td>200</td>\n",
              "      <td>2</td>\n",
              "      <td>80</td>\n",
              "      <td>2020-07-19</td>\n",
              "      <td>1.26</td>\n",
              "      <td>1</td>\n",
              "      <td>0</td>\n",
              "    </tr>\n",
              "  </tbody>\n",
              "</table>\n",
              "</div>"
            ],
            "text/plain": [
              "        id  ... availability_365\n",
              "0  1159564  ...              365\n",
              "1  4394073  ...              230\n",
              "2  4785215  ...              355\n",
              "3  7293821  ...                0\n",
              "4  8255984  ...              334\n",
              "5  8524259  ...              364\n",
              "6  8698684  ...                0\n",
              "\n",
              "[7 rows x 16 columns]"
            ]
          },
          "metadata": {
            "tags": []
          },
          "execution_count": 5
        }
      ]
    },
    {
      "cell_type": "markdown",
      "metadata": {
        "id": "6-B_qtEaYEd-"
      },
      "source": [
        "### **Q1. Quantos atributos (variáveis) e quantas entradas o nosso conjunto de dados possui? Quais os tipos das variáveis?**\n",
        "\n",
        "Vamos prosseguir e identificar a quantidade de entradas que nosso conjunto de dados possui e ver os tipos de cada coluna.\n",
        "\n",
        "Este *dataset* que baixamos é a versão \"resumida\" do Airbnb. Na mesma página que baixamos o arquivo `listings.csv`. Há uma versão mais completa com 168 entradas e 106 variáveis (`listings.csv.gz`)."
      ]
    },
    {
      "cell_type": "code",
      "metadata": {
        "id": "TFRK0tniLV-G",
        "colab": {
          "base_uri": "https://localhost:8080/",
          "height": 357
        },
        "outputId": "1c29cf89-9ca8-408b-9e6b-38514c348648"
      },
      "source": [
        "#Verificar a quantidade de entradas e variáveis\n",
        "print(\" Entradas:\\t {}\\n Variáveis:\\t {} \\n\".format(salem.shape[0],salem.shape[1]))\n",
        "\n",
        "display(salem.dtypes)"
      ],
      "execution_count": null,
      "outputs": [
        {
          "output_type": "stream",
          "text": [
            " Entradas:\t 168\n",
            " Variáveis:\t 16 \n",
            "\n"
          ],
          "name": "stdout"
        },
        {
          "output_type": "display_data",
          "data": {
            "text/plain": [
              "id                                  int64\n",
              "name                               object\n",
              "host_id                             int64\n",
              "host_name                          object\n",
              "neighbourhood_group               float64\n",
              "neighbourhood                      object\n",
              "latitude                          float64\n",
              "longitude                         float64\n",
              "room_type                          object\n",
              "price                               int64\n",
              "minimum_nights                      int64\n",
              "number_of_reviews                   int64\n",
              "last_review                        object\n",
              "reviews_per_month                 float64\n",
              "calculated_host_listings_count      int64\n",
              "availability_365                    int64\n",
              "dtype: object"
            ]
          },
          "metadata": {
            "tags": []
          }
        }
      ]
    },
    {
      "cell_type": "markdown",
      "metadata": {
        "id": "yz1urSUGW9iE"
      },
      "source": [
        "### **Q2. Qual a porcentagem de valores ausentes no *dataset*?**\n",
        "A qualidade de um *dataset* está diretamente relacionada à quantidade de valores ausentes. É importante entender logo no início se esses valores nulos são significativos comparados ao total de entradas.\n",
        "\n",
        "* É possível ver que a coluna `neighbourhood_group` possui 100% dos seus valores faltantes. \n",
        "* As variáveis `reviews_per_month` e `last_review` possuem valores nulos em pouco mais de 20.83% das linhas, referem-se a casas que possivelmente não tiveram nenhuma avaliação.\n",
        "* A variável `host_name` têm aproximadamente 0,02% dos valores nulos."
      ]
    },
    {
      "cell_type": "code",
      "metadata": {
        "id": "plk2FjbCXOqP",
        "colab": {
          "base_uri": "https://localhost:8080/"
        },
        "outputId": "72a82873-55ce-44a0-ed0b-8c15a0994083"
      },
      "source": [
        "# ordenar em ordem decrescente as variáveis por seus valores ausentes\n",
        "(salem.isnull().sum()/ salem.shape[0]).sort_values(ascending=False)\n"
      ],
      "execution_count": null,
      "outputs": [
        {
          "output_type": "execute_result",
          "data": {
            "text/plain": [
              "neighbourhood_group               1.000000\n",
              "reviews_per_month                 0.208333\n",
              "last_review                       0.208333\n",
              "host_name                         0.017857\n",
              "availability_365                  0.000000\n",
              "calculated_host_listings_count    0.000000\n",
              "number_of_reviews                 0.000000\n",
              "minimum_nights                    0.000000\n",
              "price                             0.000000\n",
              "room_type                         0.000000\n",
              "longitude                         0.000000\n",
              "latitude                          0.000000\n",
              "neighbourhood                     0.000000\n",
              "host_id                           0.000000\n",
              "name                              0.000000\n",
              "id                                0.000000\n",
              "dtype: float64"
            ]
          },
          "metadata": {
            "tags": []
          },
          "execution_count": 7
        }
      ]
    },
    {
      "cell_type": "markdown",
      "metadata": {
        "id": "iHXvvHIxaoNc"
      },
      "source": [
        "### **Q3. Qual o tipo de distribuição das variáveis?** "
      ]
    },
    {
      "cell_type": "code",
      "metadata": {
        "id": "q2wWSfeRbmBo",
        "colab": {
          "base_uri": "https://localhost:8080/",
          "height": 623
        },
        "outputId": "362ae279-9ae3-462a-90c7-4b79f586519e"
      },
      "source": [
        "# plotar o histograma das variáveis numéricas\n",
        "salem.hist(bins=15, color=\"red\", figsize=(25,12));"
      ],
      "execution_count": null,
      "outputs": [
        {
          "output_type": "display_data",
          "data": {
            "image/png": "[encoded data removed]",
            "text/plain": [
              "<Figure size 1800x864 with 12 Axes>"
            ]
          },
          "metadata": {
            "tags": [],
            "needs_background": "light"
          }
        }
      ]
    },
    {
      "cell_type": "markdown",
      "metadata": {
        "id": "7x4aw1j5wNmn"
      },
      "source": [
        "### **Q4. Há outliers presentes?**\n",
        "Pela distribuição do histograma, é possível verificar indícios da presença de *outliers*. Olhe por exemplo as variáveis `price` e `minimum_nights`.\n",
        "\n",
        "Os valores não seguem uma distribuição, e distorcem toda a representação gráfica. Para confirmar, há duas maneiras rápidas que auxiliam a detecção de *outliers*. São elas:\n",
        "\n",
        "* Resumo estatístico por meio do método `describe()`.\n",
        "* Plotar `boxplots` para a variável."
      ]
    },
    {
      "cell_type": "code",
      "metadata": {
        "id": "ff-8gUahLk-C",
        "colab": {
          "base_uri": "https://localhost:8080/",
          "height": 297
        },
        "outputId": "318f86c1-68c1-4e61-e1b8-a888f9c9c2f9"
      },
      "source": [
        "# ver a média da coluna `price``\n",
        "salem[['price', 'minimum_nights', 'number_of_reviews', 'reviews_per_month',\n",
        "    'calculated_host_listings_count', 'availability_365']].describe()"
      ],
      "execution_count": null,
      "outputs": [
        {
          "output_type": "execute_result",
          "data": {
            "text/html": [
              "<div>\n",
              "<style scoped>\n",
              "    .dataframe tbody tr th:only-of-type {\n",
              "        vertical-align: middle;\n",
              "    }\n",
              "\n",
              "    .dataframe tbody tr th {\n",
              "        vertical-align: top;\n",
              "    }\n",
              "\n",
              "    .dataframe thead th {\n",
              "        text-align: right;\n",
              "    }\n",
              "</style>\n",
              "<table border=\"1\" class=\"dataframe\">\n",
              "  <thead>\n",
              "    <tr style=\"text-align: right;\">\n",
              "      <th></th>\n",
              "      <th>price</th>\n",
              "      <th>minimum_nights</th>\n",
              "      <th>number_of_reviews</th>\n",
              "      <th>reviews_per_month</th>\n",
              "      <th>calculated_host_listings_count</th>\n",
              "      <th>availability_365</th>\n",
              "    </tr>\n",
              "  </thead>\n",
              "  <tbody>\n",
              "    <tr>\n",
              "      <th>count</th>\n",
              "      <td>168.000000</td>\n",
              "      <td>168.000000</td>\n",
              "      <td>168.000000</td>\n",
              "      <td>133.000000</td>\n",
              "      <td>168.000000</td>\n",
              "      <td>168.000000</td>\n",
              "    </tr>\n",
              "    <tr>\n",
              "      <th>mean</th>\n",
              "      <td>232.345238</td>\n",
              "      <td>3.672619</td>\n",
              "      <td>51.226190</td>\n",
              "      <td>1.954286</td>\n",
              "      <td>1.821429</td>\n",
              "      <td>154.327381</td>\n",
              "    </tr>\n",
              "    <tr>\n",
              "      <th>std</th>\n",
              "      <td>391.408266</td>\n",
              "      <td>8.852414</td>\n",
              "      <td>87.970647</td>\n",
              "      <td>2.023471</td>\n",
              "      <td>1.598358</td>\n",
              "      <td>130.730444</td>\n",
              "    </tr>\n",
              "    <tr>\n",
              "      <th>min</th>\n",
              "      <td>30.000000</td>\n",
              "      <td>1.000000</td>\n",
              "      <td>0.000000</td>\n",
              "      <td>0.020000</td>\n",
              "      <td>1.000000</td>\n",
              "      <td>0.000000</td>\n",
              "    </tr>\n",
              "    <tr>\n",
              "      <th>25%</th>\n",
              "      <td>68.000000</td>\n",
              "      <td>1.000000</td>\n",
              "      <td>1.000000</td>\n",
              "      <td>0.370000</td>\n",
              "      <td>1.000000</td>\n",
              "      <td>18.250000</td>\n",
              "    </tr>\n",
              "    <tr>\n",
              "      <th>50%</th>\n",
              "      <td>114.500000</td>\n",
              "      <td>2.000000</td>\n",
              "      <td>12.000000</td>\n",
              "      <td>1.400000</td>\n",
              "      <td>1.000000</td>\n",
              "      <td>134.500000</td>\n",
              "    </tr>\n",
              "    <tr>\n",
              "      <th>75%</th>\n",
              "      <td>175.000000</td>\n",
              "      <td>2.000000</td>\n",
              "      <td>62.250000</td>\n",
              "      <td>2.490000</td>\n",
              "      <td>2.000000</td>\n",
              "      <td>276.500000</td>\n",
              "    </tr>\n",
              "    <tr>\n",
              "      <th>max</th>\n",
              "      <td>3000.000000</td>\n",
              "      <td>60.000000</td>\n",
              "      <td>511.000000</td>\n",
              "      <td>9.450000</td>\n",
              "      <td>8.000000</td>\n",
              "      <td>365.000000</td>\n",
              "    </tr>\n",
              "  </tbody>\n",
              "</table>\n",
              "</div>"
            ],
            "text/plain": [
              "             price  ...  availability_365\n",
              "count   168.000000  ...        168.000000\n",
              "mean    232.345238  ...        154.327381\n",
              "std     391.408266  ...        130.730444\n",
              "min      30.000000  ...          0.000000\n",
              "25%      68.000000  ...         18.250000\n",
              "50%     114.500000  ...        134.500000\n",
              "75%     175.000000  ...        276.500000\n",
              "max    3000.000000  ...        365.000000\n",
              "\n",
              "[8 rows x 6 columns]"
            ]
          },
          "metadata": {
            "tags": []
          },
          "execution_count": 9
        }
      ]
    },
    {
      "cell_type": "code",
      "metadata": {
        "colab": {
          "base_uri": "https://localhost:8080/",
          "height": 262
        },
        "id": "7VTQeSoVZLhx",
        "outputId": "3b59cf92-f5c8-413c-8715-da7b739a2fe9"
      },
      "source": [
        "# minimum_nights\n",
        "salem.minimum_nights.plot(kind='box', vert=False, figsize=(15, 3))\n",
        "plt.show()\n",
        "\n",
        "# ver quantidade de valores acima de 10 dias para minimum_nights\n",
        "print(\"minimum_nights: valores acima de 10:\")\n",
        "print(\"{} entradas\".format(len(salem[salem.minimum_nights > 3])))\n",
        "print(\"Correspondem a {:.4f}% do total\".format((len(salem[salem.minimum_nights > 3]) / salem.shape[0])*100))"
      ],
      "execution_count": null,
      "outputs": [
        {
          "output_type": "display_data",
          "data": {
            "image/png": "[encoded data removed]",
            "text/plain": [
              "<Figure size 1080x216 with 1 Axes>"
            ]
          },
          "metadata": {
            "tags": [],
            "needs_background": "light"
          }
        },
        {
          "output_type": "stream",
          "text": [
            "minimum_nights: valores acima de 10:\n",
            "16 entradas\n",
            "Correspondem a 9.5238% do total\n"
          ],
          "name": "stdout"
        }
      ]
    },
    {
      "cell_type": "code",
      "metadata": {
        "colab": {
          "base_uri": "https://localhost:8080/",
          "height": 262
        },
        "id": "gaJVRYr8jn1v",
        "outputId": "80cea9bd-a83f-42c2-a049-aa38bb384993"
      },
      "source": [
        "# minimum_nights\n",
        "salem.price.plot(kind='box', vert=False, figsize=(15, 3))\n",
        "plt.show()\n",
        "\n",
        "# ver quantidade de valores acima de 500 para price\n",
        "print(\"price: valores acima de 300:\")\n",
        "print(\"{} entradas\".format(len(salem[salem.price > 300])))\n",
        "print(\"Correspondem a {:.4f}% do total\".format((len(salem[salem.price > 300]) / salem.shape[0])*100))"
      ],
      "execution_count": null,
      "outputs": [
        {
          "output_type": "display_data",
          "data": {
            "image/png": "[encoded data removed]",
            "text/plain": [
              "<Figure size 1080x216 with 1 Axes>"
            ]
          },
          "metadata": {
            "tags": [],
            "needs_background": "light"
          }
        },
        {
          "output_type": "stream",
          "text": [
            "price: valores acima de 300:\n",
            "29 entradas\n",
            "Correspondem a 17.2619% do total\n"
          ],
          "name": "stdout"
        }
      ]
    },
    {
      "cell_type": "markdown",
      "metadata": {
        "id": "_lk3t-KzhAgA"
      },
      "source": [
        "#### Histogramas sem *outliers*\n",
        "\n",
        "Já que identificamos *outliers* nas variáveis `price` e `minimum_nights`, vamos agora limpar o *DataFrame* delas e plotar novamente os histogramas."
      ]
    },
    {
      "cell_type": "code",
      "metadata": {
        "colab": {
          "base_uri": "https://localhost:8080/",
          "height": 626
        },
        "id": "Pxf80Hx3g3h5",
        "outputId": "7f9a89e2-fa8b-4765-ba3e-f49e449742b9"
      },
      "source": [
        "# remover os *outliers* em um novo DataFrame\n",
        "salem_clean = salem.copy()\n",
        "salem_clean.drop(salem_clean[salem_clean.minimum_nights > 3].index, axis=0, inplace=True)\n",
        "salem_clean.drop(salem_clean[salem_clean.price > 300].index, axis=0, inplace=True)\n",
        "\n",
        "# remover `neighbourhood_group`, pois está vazio\n",
        "salem_clean.drop('neighbourhood_group', axis=1, inplace=True)\n",
        "\n",
        "# plotar o histograma para as variáveis numéricas\n",
        "salem_clean.hist(bins=15, color=\"red\", figsize=(25,12));"
      ],
      "execution_count": null,
      "outputs": [
        {
          "output_type": "display_data",
          "data": {
            "image/png": "[encoded data removed]",
            "text/plain": [
              "<Figure size 1800x864 with 12 Axes>"
            ]
          },
          "metadata": {
            "tags": [],
            "needs_background": "light"
          }
        }
      ]
    },
    {
      "cell_type": "markdown",
      "metadata": {
        "id": "IXn2oIo5qx-w"
      },
      "source": [
        "### **Q5. Qual a correlação existente entre as variáveis**\n",
        "\n",
        "Correlação significa que existe uma relação entre duas coisas. No nosso contexto, estamos buscando relação ou semelhança entre duas variáveis.\n",
        "\n",
        "Essa relação pode ser medida, e é função do coeficiente de correlação estabelecer qual a intensidade dela. Para identificar as correlações existentes entre as variáveis de interesse, vou:\n",
        "\n",
        "* Criar uma matriz de correlação\n",
        "* Gerar um *heatmap* a partir dessa matriz, usando a biblioteca `seaborn`"
      ]
    },
    {
      "cell_type": "code",
      "metadata": {
        "id": "x2ayzBajqxyd",
        "colab": {
          "base_uri": "https://localhost:8080/",
          "height": 235
        },
        "outputId": "d87918ae-867d-4dbf-d6a5-f4de69525d93"
      },
      "source": [
        "# criar uma matriz de correlação\n",
        "corr = salem_clean[['price', 'minimum_nights', 'number_of_reviews', 'reviews_per_month',\n",
        "    'calculated_host_listings_count', 'availability_365']].corr()\n",
        "\n",
        "# mostrar a matriz de correlação\n",
        "display(corr)"
      ],
      "execution_count": null,
      "outputs": [
        {
          "output_type": "display_data",
          "data": {
            "text/html": [
              "<div>\n",
              "<style scoped>\n",
              "    .dataframe tbody tr th:only-of-type {\n",
              "        vertical-align: middle;\n",
              "    }\n",
              "\n",
              "    .dataframe tbody tr th {\n",
              "        vertical-align: top;\n",
              "    }\n",
              "\n",
              "    .dataframe thead th {\n",
              "        text-align: right;\n",
              "    }\n",
              "</style>\n",
              "<table border=\"1\" class=\"dataframe\">\n",
              "  <thead>\n",
              "    <tr style=\"text-align: right;\">\n",
              "      <th></th>\n",
              "      <th>price</th>\n",
              "      <th>minimum_nights</th>\n",
              "      <th>number_of_reviews</th>\n",
              "      <th>reviews_per_month</th>\n",
              "      <th>calculated_host_listings_count</th>\n",
              "      <th>availability_365</th>\n",
              "    </tr>\n",
              "  </thead>\n",
              "  <tbody>\n",
              "    <tr>\n",
              "      <th>price</th>\n",
              "      <td>1.000000</td>\n",
              "      <td>0.033729</td>\n",
              "      <td>-0.183104</td>\n",
              "      <td>-0.129475</td>\n",
              "      <td>0.108792</td>\n",
              "      <td>0.108901</td>\n",
              "    </tr>\n",
              "    <tr>\n",
              "      <th>minimum_nights</th>\n",
              "      <td>0.033729</td>\n",
              "      <td>1.000000</td>\n",
              "      <td>-0.228312</td>\n",
              "      <td>-0.411202</td>\n",
              "      <td>0.042029</td>\n",
              "      <td>0.159589</td>\n",
              "    </tr>\n",
              "    <tr>\n",
              "      <th>number_of_reviews</th>\n",
              "      <td>-0.183104</td>\n",
              "      <td>-0.228312</td>\n",
              "      <td>1.000000</td>\n",
              "      <td>0.844804</td>\n",
              "      <td>-0.034241</td>\n",
              "      <td>-0.135169</td>\n",
              "    </tr>\n",
              "    <tr>\n",
              "      <th>reviews_per_month</th>\n",
              "      <td>-0.129475</td>\n",
              "      <td>-0.411202</td>\n",
              "      <td>0.844804</td>\n",
              "      <td>1.000000</td>\n",
              "      <td>-0.040289</td>\n",
              "      <td>-0.192210</td>\n",
              "    </tr>\n",
              "    <tr>\n",
              "      <th>calculated_host_listings_count</th>\n",
              "      <td>0.108792</td>\n",
              "      <td>0.042029</td>\n",
              "      <td>-0.034241</td>\n",
              "      <td>-0.040289</td>\n",
              "      <td>1.000000</td>\n",
              "      <td>0.325863</td>\n",
              "    </tr>\n",
              "    <tr>\n",
              "      <th>availability_365</th>\n",
              "      <td>0.108901</td>\n",
              "      <td>0.159589</td>\n",
              "      <td>-0.135169</td>\n",
              "      <td>-0.192210</td>\n",
              "      <td>0.325863</td>\n",
              "      <td>1.000000</td>\n",
              "    </tr>\n",
              "  </tbody>\n",
              "</table>\n",
              "</div>"
            ],
            "text/plain": [
              "                                   price  ...  availability_365\n",
              "price                           1.000000  ...          0.108901\n",
              "minimum_nights                  0.033729  ...          0.159589\n",
              "number_of_reviews              -0.183104  ...         -0.135169\n",
              "reviews_per_month              -0.129475  ...         -0.192210\n",
              "calculated_host_listings_count  0.108792  ...          0.325863\n",
              "availability_365                0.108901  ...          1.000000\n",
              "\n",
              "[6 rows x 6 columns]"
            ]
          },
          "metadata": {
            "tags": []
          }
        }
      ]
    },
    {
      "cell_type": "code",
      "metadata": {
        "id": "91UujDr6ueqE",
        "colab": {
          "base_uri": "https://localhost:8080/",
          "height": 411
        },
        "outputId": "3b487d1a-ebc9-4fae-f806-00af107434e7"
      },
      "source": [
        "# plotar um heatmap a partir das correlações\n",
        "sns.heatmap(corr, cmap='RdBu', fmt='.2f', square=True, linecolor='white', annot=True);\n"
      ],
      "execution_count": null,
      "outputs": [
        {
          "output_type": "display_data",
          "data": {
            "image/png": "[encoded data removed]",
            "text/plain": [
              "<Figure size 432x288 with 2 Axes>"
            ]
          },
          "metadata": {
            "tags": [],
            "needs_background": "light"
          }
        }
      ]
    },
    {
      "cell_type": "markdown",
      "metadata": {
        "id": "7b6RMWpuHKN-"
      },
      "source": [
        "### **Q6. Qual o tipo de imóvel mais alugado no Airbnb?**\n",
        "A coluna da variável `room_type` indica o tipo de locação que está anunciada no Airbnb. Se você já alugou no site, sabe que existem opções de apartamentos/casas inteiras, apenas o aluguel de um quarto ou mesmo dividir o quarto com outras pessoas.\n",
        "\n",
        "Vamos contar a quantidade de ocorrências de cada tipo de aluguel, usando o método `value_counts()`."
      ]
    },
    {
      "cell_type": "code",
      "metadata": {
        "id": "ueLPNWvPHgfB",
        "colab": {
          "base_uri": "https://localhost:8080/"
        },
        "outputId": "63b1b9ab-89eb-4e83-9ad9-6788b23e660b"
      },
      "source": [
        "# mostrar a quantidade de cada tipo de imóvel disponível\n",
        "salem_clean.room_type.value_counts()"
      ],
      "execution_count": null,
      "outputs": [
        {
          "output_type": "execute_result",
          "data": {
            "text/plain": [
              "Entire home/apt    72\n",
              "Private room       50\n",
              "Shared room         1\n",
              "Name: room_type, dtype: int64"
            ]
          },
          "metadata": {
            "tags": []
          },
          "execution_count": 38
        }
      ]
    },
    {
      "cell_type": "code",
      "metadata": {
        "id": "EvwoO-XAHhIm",
        "colab": {
          "base_uri": "https://localhost:8080/"
        },
        "outputId": "e8db3279-a108-43db-9fee-94a7f7b1dde9"
      },
      "source": [
        "# mostrar a porcentagem de cada tipo de imóvel disponível\n",
        "salem_clean.room_type.value_counts() / salem_clean.shape[0]"
      ],
      "execution_count": null,
      "outputs": [
        {
          "output_type": "execute_result",
          "data": {
            "text/plain": [
              "Entire home/apt    0.585366\n",
              "Private room       0.406504\n",
              "Shared room        0.008130\n",
              "Name: room_type, dtype: float64"
            ]
          },
          "metadata": {
            "tags": []
          },
          "execution_count": 40
        }
      ]
    },
    {
      "cell_type": "markdown",
      "metadata": {
        "id": "MFa5NbnLJMcd"
      },
      "source": [
        "### **Q7. Qual a localidade mais cara do dataset?**\n",
        "Uma maneira de se verificar uma variável em função da outra é usando `groupby()`. No caso, queremos comparar os bairros (*neighbourhoods*) a partir do preço de locação.\n",
        "\n"
      ]
    },
    {
      "cell_type": "code",
      "metadata": {
        "id": "MD_xa143JZpi",
        "colab": {
          "base_uri": "https://localhost:8080/"
        },
        "outputId": "42d19e79-0e3f-4a7d-9498-c2bf3727e3cb"
      },
      "source": [
        "# ver preços por bairros, na média\n",
        "salem_clean.groupby(['neighbourhood']).price.mean().sort_values(ascending=False)[:10]\n"
      ],
      "execution_count": null,
      "outputs": [
        {
          "output_type": "execute_result",
          "data": {
            "text/plain": [
              "neighbourhood\n",
              "Ward 6    154.500000\n",
              "Ward 5    142.333333\n",
              "Ward 8    116.769231\n",
              "Ward 4    114.875000\n",
              "Ward 2    112.652174\n",
              "Ward 3    106.142857\n",
              "Ward 1    101.853659\n",
              "Ward 7     96.173913\n",
              "Name: price, dtype: float64"
            ]
          },
          "metadata": {
            "tags": []
          },
          "execution_count": 41
        }
      ]
    },
    {
      "cell_type": "code",
      "metadata": {
        "id": "UxVJqJ_3W59I",
        "colab": {
          "base_uri": "https://localhost:8080/",
          "height": 473
        },
        "outputId": "57182b3f-af85-4df6-b871-7bf4fcdc3281"
      },
      "source": [
        "# plotar os imóveis pela latitude-longitude\n",
        "salem_clean.plot(kind=\"scatter\", x='longitude', y='latitude', alpha=0.4, c=salem_clean['price'], s=8,\n",
        "              cmap=plt.get_cmap('jet'), figsize=(15,8));"
      ],
      "execution_count": null,
      "outputs": [
        {
          "output_type": "display_data",
          "data": {
            "image/png": "[encoded data removed]",
            "text/plain": [
              "<Figure size 1080x576 with 2 Axes>"
            ]
          },
          "metadata": {
            "tags": [],
            "needs_background": "light"
          }
        }
      ]
    },
    {
      "cell_type": "markdown",
      "metadata": {
        "id": "vTneAMRUYvr1"
      },
      "source": [
        "### **Q8. Qual é a média do mínimo de noites para aluguel (minimum_nights)?**\n",
        "\n",
        "A obtenção da média não é nada mais que a soma de todos valores da variável dividido pelo número de linhas do dataset."
      ]
    },
    {
      "cell_type": "code",
      "metadata": {
        "id": "_VzNhrEgY82N",
        "colab": {
          "base_uri": "https://localhost:8080/"
        },
        "outputId": "8f61676c-91bb-41f0-9612-aceb9c0197c1"
      },
      "source": [
        "# ver a média da coluna `minimum_nights``\n",
        "salem_clean.minimum_nights.sum()/salem_clean.shape[0]"
      ],
      "execution_count": null,
      "outputs": [
        {
          "output_type": "execute_result",
          "data": {
            "text/plain": [
              "1.6585365853658536"
            ]
          },
          "metadata": {
            "tags": []
          },
          "execution_count": 47
        }
      ]
    },
    {
      "cell_type": "markdown",
      "metadata": {
        "id": "GkvAg623RjoR"
      },
      "source": [
        "## Conclusões\n",
        "\n",
        "Foi feita apenas uma análise exploratória básica na base de dados do Airbnb, porém já obtivemos alguns resultados como a presença de outliers, que apenas duas variáveis tem correlação significativa.\n",
        "\n",
        "\n",
        "Por fim, este este dataset é uma versão resumida, ideal apenas para uma abordagem inicial. Para uma análise mais completa o ideal, em uma próxima análise exploratória, que se utilize o conjunto de dados completos, com 106 atributos disponíveis.\n"
      ]
    }
  ]
}